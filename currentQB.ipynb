{
 "cells": [
  {
   "cell_type": "code",
   "execution_count": 2,
   "metadata": {},
   "outputs": [],
   "source": [
    "import requests\n",
    "from bs4 import BeautifulSoup\n",
    "import pandas as pd\n",
    "import time"
   ]
  },
  {
   "cell_type": "code",
   "execution_count": 10,
   "metadata": {},
   "outputs": [],
   "source": [
    "url = 'https://www.spotrac.com/nfl/contracts/quarterback/'\n",
    "\n",
    "response = requests.get(url)\n",
    "time.sleep(8)\n",
    "soup = BeautifulSoup(response.text, 'html.parser')\n",
    "\n",
    "# table = soup.find('table', class_ = 'datatable  rtable tablesorter tablesorter-default tablesortere78cf2fb6840b')\n",
    "table = soup.find('tbody')\n",
    "players = []\n",
    "\n",
    "# for row in table:\n",
    "for row in table.find_all('tr'):\n",
    "    columns = row.find_all('td')\n",
    "\n",
    "    # Extract player name from the first column (assuming it's plain text)\n",
    "    player_name = columns[1].find('a', class_ = 'team-name').text.strip()\n",
    "\n",
    "    # Extract the year info\n",
    "    year_range = columns[1].find_all('div', class_ = 'rank-position')[1].text.strip()\n",
    "    start_year = year_range.split('-')[0]\n",
    "    end_year = year_range.split('-')[1].split(\"(\")[0].strip()\n",
    "    contract_length = int(end_year) - int(start_year)\n",
    "\n",
    "    # Calculate the contract value\n",
    "    contract_value = columns[4].find('span', class_ = 'cap').text.strip()\n",
    "    guaranteed_money = columns[-1].text.strip()\n",
    "\n",
    "\n",
    "    player_data = {\n",
    "        'Player Name': player_name,\n",
    "        'Start Year': start_year,\n",
    "        'End Year': end_year,\n",
    "        'Contract Length': contract_length,\n",
    "        'Contract Value': contract_value,\n",
    "        'Guaranteed Money': guaranteed_money\n",
    "    }\n",
    "    players.append(player_data)\n",
    "df = pd.DataFrame(players)\n",
    "df.to_csv('quarterback_contracts.csv', index=False)\n"
   ]
  }
 ],
 "metadata": {
  "kernelspec": {
   "display_name": "Python 3",
   "language": "python",
   "name": "python3"
  },
  "language_info": {
   "codemirror_mode": {
    "name": "ipython",
    "version": 3
   },
   "file_extension": ".py",
   "mimetype": "text/x-python",
   "name": "python",
   "nbconvert_exporter": "python",
   "pygments_lexer": "ipython3",
   "version": "3.11.5"
  },
  "orig_nbformat": 4
 },
 "nbformat": 4,
 "nbformat_minor": 2
}
