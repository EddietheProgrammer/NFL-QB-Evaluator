{
 "cells": [
  {
   "cell_type": "code",
   "execution_count": 1,
   "metadata": {},
   "outputs": [],
   "source": [
    "import requests\n",
    "from bs4 import BeautifulSoup\n",
    "import pandas as pd\n",
    "import time"
   ]
  },
  {
   "cell_type": "code",
   "execution_count": 10,
   "metadata": {},
   "outputs": [],
   "source": [
    "\"\"\"\n",
    "\n",
    "The goal of this cell is to obtain the current contracts of \n",
    "Quarterbacks playing in the league.\n",
    "\n",
    "\"\"\"\n",
    "# @source: spotrac- very neat website to obtain player contracts\n",
    "# from any sport\n",
    "\n",
    "url = 'https://www.spotrac.com/nfl/contracts/quarterback/'\n",
    "\n",
    "response = requests.get(url)\n",
    "time.sleep(8)\n",
    "soup = BeautifulSoup(response.text, 'html.parser')\n",
    "\n",
    "table = soup.find('tbody')\n",
    "players = []\n",
    "\n",
    "# for each row in table, extract the player information.\n",
    "for row in table.find_all('tr'):\n",
    "    columns = row.find_all('td')\n",
    "\n",
    "    # Extract player name from the first column (assuming it's plain text)\n",
    "    player_name = columns[1].find('a', class_ = 'team-name').text.strip()\n",
    "\n",
    "    # Extract the year info\n",
    "    year_range = columns[1].find_all('div', class_ = 'rank-position')[1].text.strip()\n",
    "    start_year = year_range.split('-')[0]\n",
    "    end_year = year_range.split('-')[1].split(\"(\")[0].strip()\n",
    "    contract_length = int(end_year) - int(start_year)\n",
    "\n",
    "    # Calculate the contract value\n",
    "    contract_value = columns[4].find('span', class_ = 'cap').text.strip()\n",
    "    guaranteed_money = columns[-1].text.strip()\n",
    "\n",
    "\n",
    "    player_data = {\n",
    "        'Player Name': player_name,\n",
    "        'Start Year': start_year,\n",
    "        'End Year': end_year,\n",
    "        'Contract Length': contract_length,\n",
    "        'Contract Value': contract_value,\n",
    "        'Guaranteed Money': guaranteed_money\n",
    "    }\n",
    "    players.append(player_data)\n",
    "df = pd.DataFrame(players)\n",
    "df.to_csv('quarterback_contracts.csv', index=False)\n"
   ]
  },
  {
   "cell_type": "code",
   "execution_count": 29,
   "metadata": {},
   "outputs": [
    {
     "name": "stdout",
     "output_type": "stream",
     "text": [
      "['https://www.pro-football-reference.com//players/A/AlleBr00.htm', 'https://www.pro-football-reference.com//players/A/AlleJo02.htm', 'https://www.pro-football-reference.com//players/A/AlleKy00.htm', 'https://www.pro-football-reference.com//players/B/BeatC.00.htm', 'https://www.pro-football-reference.com//players/B/BoylTi00.htm', 'https://www.pro-football-reference.com//players/B/BridTe00.htm', 'https://www.pro-football-reference.com//players/B/BrisJa00.htm', 'https://www.pro-football-reference.com//players/B/BrowJa08.htm', 'https://www.pro-football-reference.com//players/B/BurrJo01.htm', 'https://www.pro-football-reference.com//players/C/CarrDe02.htm']\n"
     ]
    }
   ],
   "source": [
    "\"\"\"\n",
    "\n",
    "The goal of this cell is to obtain players off Pro Football\n",
    "Reference and their statistics that we will use in our model.\n",
    "\n",
    "\"\"\"\n",
    "# @source: Pro Football Reference- awesome site that has every statistic\n",
    "# of every football player imaginable in the NFL.\n",
    "\n",
    "alphabet = 'ABCDEFGHIJKLMNOPQRSTUVWXYZ'\n",
    "alphabet = list(alphabet)\n",
    "\n",
    "url_template = 'https://www.pro-football-reference.com/players/{}/'\n",
    "\n",
    "df = pd.read_csv('quarterback_contracts.csv')\n",
    "\n",
    "players_to_get = df['Player Name']\n",
    "\n",
    "quarterback_links = []\n",
    "\n",
    "for letter in alphabet:\n",
    "    url = url_template.format(letter)\n",
    "    response = requests.get(url)\n",
    "    time.sleep(8)\n",
    "    soup = BeautifulSoup(response.text, 'html.parser')\n",
    "\n",
    "    for p in soup.find_all('p'):\n",
    "        a_tag = p.find('a')\n",
    "        if a_tag is not None:\n",
    "            player_name = a_tag.text.strip()\n",
    "            \n",
    "            text = p.get_text()\n",
    "            position = ''\n",
    "            if ' (' in text and ')' in text:\n",
    "                position = text.split(' (')[1].split(') ')[0]\n",
    "        \n",
    "            is_qb = 1 if 'QB' in position else 0\n",
    "\n",
    "            if player_name in players_to_get.values and is_qb == 1:\n",
    "                player_html = a_tag['href']\n",
    "                full_html = f\"https://www.pro-football-reference.com/{player_html}\"\n",
    "                quarterback_links.append(full_html)\n",
    "\n"
   ]
  }
 ],
 "metadata": {
  "kernelspec": {
   "display_name": "Python 3",
   "language": "python",
   "name": "python3"
  },
  "language_info": {
   "codemirror_mode": {
    "name": "ipython",
    "version": 3
   },
   "file_extension": ".py",
   "mimetype": "text/x-python",
   "name": "python",
   "nbconvert_exporter": "python",
   "pygments_lexer": "ipython3",
   "version": "3.11.5"
  },
  "orig_nbformat": 4
 },
 "nbformat": 4,
 "nbformat_minor": 2
}
